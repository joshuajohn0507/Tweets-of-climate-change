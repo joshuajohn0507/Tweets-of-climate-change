{
 "cells": [
  {
   "cell_type": "code",
   "execution_count": 1,
   "metadata": {},
   "outputs": [],
   "source": [
    "import pandas as pd\n",
    "import numpy as np\n",
    "import matplotlib.pyplot as plt\n",
    "import warnings \n",
    "warnings.filterwarnings(\"ignore\")\n",
    "import io\n",
    "\n",
    "import seaborn as sns\n"
   ]
  },
  {
   "cell_type": "code",
   "execution_count": 2,
   "metadata": {},
   "outputs": [],
   "source": [
    "import missingno"
   ]
  },
  {
   "cell_type": "code",
   "execution_count": 3,
   "metadata": {},
   "outputs": [],
   "source": [
    "Data=pd.read_csv(\"twitter_sentiment_data.csv\")\n"
   ]
  },
  {
   "cell_type": "code",
   "execution_count": 4,
   "metadata": {},
   "outputs": [
    {
     "data": {
      "text/html": [
       "<div>\n",
       "<style scoped>\n",
       "    .dataframe tbody tr th:only-of-type {\n",
       "        vertical-align: middle;\n",
       "    }\n",
       "\n",
       "    .dataframe tbody tr th {\n",
       "        vertical-align: top;\n",
       "    }\n",
       "\n",
       "    .dataframe thead th {\n",
       "        text-align: right;\n",
       "    }\n",
       "</style>\n",
       "<table border=\"1\" class=\"dataframe\">\n",
       "  <thead>\n",
       "    <tr style=\"text-align: right;\">\n",
       "      <th></th>\n",
       "      <th>sentiment</th>\n",
       "      <th>message</th>\n",
       "      <th>tweetid</th>\n",
       "    </tr>\n",
       "  </thead>\n",
       "  <tbody>\n",
       "    <tr>\n",
       "      <th>0</th>\n",
       "      <td>-1</td>\n",
       "      <td>@tiniebeany climate change is an interesting h...</td>\n",
       "      <td>792927353886371840</td>\n",
       "    </tr>\n",
       "    <tr>\n",
       "      <th>1</th>\n",
       "      <td>1</td>\n",
       "      <td>RT @NatGeoChannel: Watch #BeforeTheFlood right...</td>\n",
       "      <td>793124211518832641</td>\n",
       "    </tr>\n",
       "    <tr>\n",
       "      <th>2</th>\n",
       "      <td>1</td>\n",
       "      <td>Fabulous! Leonardo #DiCaprio's film on #climat...</td>\n",
       "      <td>793124402388832256</td>\n",
       "    </tr>\n",
       "    <tr>\n",
       "      <th>3</th>\n",
       "      <td>1</td>\n",
       "      <td>RT @Mick_Fanning: Just watched this amazing do...</td>\n",
       "      <td>793124635873275904</td>\n",
       "    </tr>\n",
       "    <tr>\n",
       "      <th>4</th>\n",
       "      <td>2</td>\n",
       "      <td>RT @cnalive: Pranita Biswasi, a Lutheran from ...</td>\n",
       "      <td>793125156185137153</td>\n",
       "    </tr>\n",
       "  </tbody>\n",
       "</table>\n",
       "</div>"
      ],
      "text/plain": [
       "   sentiment                                            message  \\\n",
       "0         -1  @tiniebeany climate change is an interesting h...   \n",
       "1          1  RT @NatGeoChannel: Watch #BeforeTheFlood right...   \n",
       "2          1  Fabulous! Leonardo #DiCaprio's film on #climat...   \n",
       "3          1  RT @Mick_Fanning: Just watched this amazing do...   \n",
       "4          2  RT @cnalive: Pranita Biswasi, a Lutheran from ...   \n",
       "\n",
       "              tweetid  \n",
       "0  792927353886371840  \n",
       "1  793124211518832641  \n",
       "2  793124402388832256  \n",
       "3  793124635873275904  \n",
       "4  793125156185137153  "
      ]
     },
     "execution_count": 4,
     "metadata": {},
     "output_type": "execute_result"
    }
   ],
   "source": [
    "Data.head()"
   ]
  },
  {
   "cell_type": "code",
   "execution_count": 5,
   "metadata": {},
   "outputs": [
    {
     "data": {
      "text/plain": [
       "(43943, 3)"
      ]
     },
     "execution_count": 5,
     "metadata": {},
     "output_type": "execute_result"
    }
   ],
   "source": [
    "Data.shape"
   ]
  },
  {
   "cell_type": "code",
   "execution_count": 6,
   "metadata": {},
   "outputs": [
    {
     "data": {
      "text/html": [
       "<div>\n",
       "<style scoped>\n",
       "    .dataframe tbody tr th:only-of-type {\n",
       "        vertical-align: middle;\n",
       "    }\n",
       "\n",
       "    .dataframe tbody tr th {\n",
       "        vertical-align: top;\n",
       "    }\n",
       "\n",
       "    .dataframe thead th {\n",
       "        text-align: right;\n",
       "    }\n",
       "</style>\n",
       "<table border=\"1\" class=\"dataframe\">\n",
       "  <thead>\n",
       "    <tr style=\"text-align: right;\">\n",
       "      <th></th>\n",
       "      <th>sentiment</th>\n",
       "      <th>tweetid</th>\n",
       "    </tr>\n",
       "  </thead>\n",
       "  <tbody>\n",
       "    <tr>\n",
       "      <th>count</th>\n",
       "      <td>43943.000000</td>\n",
       "      <td>4.394300e+04</td>\n",
       "    </tr>\n",
       "    <tr>\n",
       "      <th>mean</th>\n",
       "      <td>0.853924</td>\n",
       "      <td>8.367966e+17</td>\n",
       "    </tr>\n",
       "    <tr>\n",
       "      <th>std</th>\n",
       "      <td>0.853543</td>\n",
       "      <td>8.568506e+16</td>\n",
       "    </tr>\n",
       "    <tr>\n",
       "      <th>min</th>\n",
       "      <td>-1.000000</td>\n",
       "      <td>5.926334e+17</td>\n",
       "    </tr>\n",
       "    <tr>\n",
       "      <th>25%</th>\n",
       "      <td>0.000000</td>\n",
       "      <td>7.970376e+17</td>\n",
       "    </tr>\n",
       "    <tr>\n",
       "      <th>50%</th>\n",
       "      <td>1.000000</td>\n",
       "      <td>8.402301e+17</td>\n",
       "    </tr>\n",
       "    <tr>\n",
       "      <th>75%</th>\n",
       "      <td>1.000000</td>\n",
       "      <td>9.020003e+17</td>\n",
       "    </tr>\n",
       "    <tr>\n",
       "      <th>max</th>\n",
       "      <td>2.000000</td>\n",
       "      <td>9.667024e+17</td>\n",
       "    </tr>\n",
       "  </tbody>\n",
       "</table>\n",
       "</div>"
      ],
      "text/plain": [
       "          sentiment       tweetid\n",
       "count  43943.000000  4.394300e+04\n",
       "mean       0.853924  8.367966e+17\n",
       "std        0.853543  8.568506e+16\n",
       "min       -1.000000  5.926334e+17\n",
       "25%        0.000000  7.970376e+17\n",
       "50%        1.000000  8.402301e+17\n",
       "75%        1.000000  9.020003e+17\n",
       "max        2.000000  9.667024e+17"
      ]
     },
     "execution_count": 6,
     "metadata": {},
     "output_type": "execute_result"
    }
   ],
   "source": [
    "Data.describe()"
   ]
  },
  {
   "cell_type": "code",
   "execution_count": 7,
   "metadata": {
    "scrolled": true
   },
   "outputs": [
    {
     "name": "stdout",
     "output_type": "stream",
     "text": [
      "<class 'pandas.core.frame.DataFrame'>\n",
      "RangeIndex: 43943 entries, 0 to 43942\n",
      "Data columns (total 3 columns):\n",
      " #   Column     Non-Null Count  Dtype \n",
      "---  ------     --------------  ----- \n",
      " 0   sentiment  43943 non-null  int64 \n",
      " 1   message    43943 non-null  object\n",
      " 2   tweetid    43943 non-null  int64 \n",
      "dtypes: int64(2), object(1)\n",
      "memory usage: 1.0+ MB\n"
     ]
    }
   ],
   "source": [
    "Data.info()"
   ]
  },
  {
   "cell_type": "code",
   "execution_count": 8,
   "metadata": {},
   "outputs": [
    {
     "data": {
      "text/plain": [
       "sentiment    0\n",
       "message      0\n",
       "tweetid      0\n",
       "dtype: int64"
      ]
     },
     "execution_count": 8,
     "metadata": {},
     "output_type": "execute_result"
    }
   ],
   "source": [
    "Data.isna().sum()"
   ]
  },
  {
   "cell_type": "markdown",
   "metadata": {},
   "source": [
    "since there are no missing values will continue to clean the dataset "
   ]
  },
  {
   "cell_type": "code",
   "execution_count": 9,
   "metadata": {},
   "outputs": [
    {
     "name": "stderr",
     "output_type": "stream",
     "text": [
      "[nltk_data] Downloading package stopwords to\n",
      "[nltk_data]     C:\\Users\\Joshua\\AppData\\Roaming\\nltk_data...\n",
      "[nltk_data]   Package stopwords is already up-to-date!\n"
     ]
    }
   ],
   "source": [
    "import re\n",
    "import nltk\n",
    "nltk.download('stopwords')\n",
    "from nltk.corpus import stopwords\n",
    "from nltk.stem.porter import PorterStemmer"
   ]
  },
  {
   "cell_type": "code",
   "execution_count": 10,
   "metadata": {},
   "outputs": [],
   "source": [
    "corpus = []\n",
    "for i in range(0, 43942):\n",
    "    # Removing Hashtags\n",
    "    review = re.sub(r'#', '', Data['message'][i])\n",
    "    # Removing Chines\n",
    "    review = re.sub(r'[^\\x00-\\x7F]+', '', Data['message'][i])\n",
    "    # Removing Retweets\n",
    "    review = re.sub(r'RT[\\s]+', '', Data['message'][i])\n",
    "    # Removing HyperLinks\n",
    "    review = re.sub(r'https?:\\/\\/\\s+', '', Data['message'][i])\n",
    "    #selecting characters only\n",
    "    review = re.sub('[^a-zA-Z]', ' ', Data['message'][i])\n",
    "    review = review.lower()\n",
    "    review = review.split()\n",
    "    ps = PorterStemmer()\n",
    "    review = [ps.stem(word) for word in review if not word in set(stopwords.words('english'))]\n",
    "    review = ' '.join(review)\n",
    "    corpus.append(review)\n"
   ]
  },
  {
   "cell_type": "code",
   "execution_count": 11,
   "metadata": {},
   "outputs": [],
   "source": [
    "from sklearn.feature_extraction.text import CountVectorizer\n",
    "cv = CountVectorizer(max_features = 10000)\n",
    "x = cv.fit_transform(corpus).toarray()\n",
    "y = Data.iloc[0:43942, 0].values"
   ]
  },
  {
   "cell_type": "code",
   "execution_count": 12,
   "metadata": {},
   "outputs": [],
   "source": [
    "#splitting the data into training and testing datset in the ratio 80:20\n",
    "from sklearn.model_selection import train_test_split\n",
    "x_train, x_test, y_train, y_test = train_test_split(x, y, test_size = 0.20, random_state = 0)"
   ]
  },
  {
   "cell_type": "markdown",
   "metadata": {},
   "source": [
    "   MODEL GENERATION NAIVE BAYES"
   ]
  },
  {
   "cell_type": "code",
   "execution_count": 13,
   "metadata": {},
   "outputs": [],
   "source": [
    "from sklearn.naive_bayes import MultinomialNB\n",
    "model=MultinomialNB().fit(x_train,y_train)"
   ]
  },
  {
   "cell_type": "code",
   "execution_count": 14,
   "metadata": {},
   "outputs": [
    {
     "name": "stdout",
     "output_type": "stream",
     "text": [
      "[1 0 1 ... 1 2 1]\n"
     ]
    }
   ],
   "source": [
    "y_pred=model.predict(x_test)\n",
    "print(y_pred)"
   ]
  },
  {
   "cell_type": "code",
   "execution_count": 15,
   "metadata": {},
   "outputs": [
    {
     "name": "stdout",
     "output_type": "stream",
     "text": [
      "[[ 464  116  174   51]\n",
      " [ 129  670  549  167]\n",
      " [ 150  437 3458  585]\n",
      " [  27   40  291 1481]]\n"
     ]
    }
   ],
   "source": [
    "from sklearn.metrics import confusion_matrix\n",
    "confusion_m=confusion_matrix(y_test,y_pred)\n",
    "print(confusion_m)"
   ]
  },
  {
   "cell_type": "code",
   "execution_count": 16,
   "metadata": {},
   "outputs": [
    {
     "name": "stdout",
     "output_type": "stream",
     "text": [
      "accuracy using naive bayes algo is 0.6909773580612129\n"
     ]
    }
   ],
   "source": [
    "from sklearn import metrics\n",
    "score=metrics.accuracy_score(y_pred,y_test)\n",
    "print(\"accuracy using naive bayes algo is \"+str(score))\n"
   ]
  },
  {
   "cell_type": "code",
   "execution_count": 17,
   "metadata": {},
   "outputs": [
    {
     "name": "stdout",
     "output_type": "stream",
     "text": [
      "accuracy is 69.09773580612128\n"
     ]
    }
   ],
   "source": [
    "accuracy=score*100\n",
    "print(\"accuracy is \"+str(accuracy))"
   ]
  },
  {
   "cell_type": "code",
   "execution_count": 18,
   "metadata": {},
   "outputs": [],
   "source": [
    "from sklearn.naive_bayes import MultinomialNB\n",
    "model = MultinomialNB(alpha=5).fit(x_train,y_train)"
   ]
  },
  {
   "cell_type": "code",
   "execution_count": 19,
   "metadata": {},
   "outputs": [
    {
     "name": "stdout",
     "output_type": "stream",
     "text": [
      "[1 1 1 ... 1 1 1]\n"
     ]
    }
   ],
   "source": [
    "predictions = model.predict(x_test)\n",
    "print(predictions)"
   ]
  },
  {
   "cell_type": "code",
   "execution_count": 20,
   "metadata": {},
   "outputs": [
    {
     "name": "stdout",
     "output_type": "stream",
     "text": [
      "Accuracy score = 67.95994993742178\n"
     ]
    }
   ],
   "source": [
    "from sklearn import metrics\n",
    "accuracy_score = metrics.accuracy_score(predictions,y_test)\n",
    "print(f'Accuracy score = {accuracy_score*100}')"
   ]
  },
  {
   "cell_type": "code",
   "execution_count": 21,
   "metadata": {},
   "outputs": [
    {
     "name": "stdout",
     "output_type": "stream",
     "text": [
      "[1 1 1 ... 1 1 1]\n",
      "Accuracy score = 58.379792922971895\n"
     ]
    }
   ],
   "source": [
    "from sklearn.naive_bayes import MultinomialNB\n",
    "model = MultinomialNB(alpha=20).fit(x_train,y_train)\n",
    "predictions = model.predict(x_test)\n",
    "print(predictions)\n",
    "accuracy_score = metrics.accuracy_score(predictions,y_test)\n",
    "print(f'Accuracy score = {accuracy_score*100}')"
   ]
  },
  {
   "cell_type": "code",
   "execution_count": 22,
   "metadata": {},
   "outputs": [
    {
     "name": "stdout",
     "output_type": "stream",
     "text": [
      "[1 1 1 ... 1 1 1]\n",
      "Accuracy score = 53.41904653544203\n"
     ]
    }
   ],
   "source": [
    "from sklearn.naive_bayes import MultinomialNB\n",
    "model = MultinomialNB(alpha=50).fit(x_train,y_train)\n",
    "predictions = model.predict(x_test)\n",
    "print(predictions)\n",
    "accuracy_score = metrics.accuracy_score(predictions,y_test)\n",
    "print(f'Accuracy score = {accuracy_score*100}')"
   ]
  },
  {
   "cell_type": "code",
   "execution_count": 23,
   "metadata": {},
   "outputs": [
    {
     "name": "stdout",
     "output_type": "stream",
     "text": [
      "[1 1 1 ... 1 1 1]\n",
      "Accuracy score = 52.759130731596315\n"
     ]
    }
   ],
   "source": [
    "from sklearn.naive_bayes import MultinomialNB\n",
    "model = MultinomialNB(alpha=100).fit(x_train,y_train)\n",
    "predictions = model.predict(x_test)\n",
    "print(predictions)\n",
    "accuracy_score = metrics.accuracy_score(predictions,y_test)\n",
    "print(f'Accuracy score = {accuracy_score*100}')"
   ]
  },
  {
   "cell_type": "code",
   "execution_count": 24,
   "metadata": {},
   "outputs": [
    {
     "name": "stdout",
     "output_type": "stream",
     "text": [
      "67.447946296507\n"
     ]
    }
   ],
   "source": [
    "from sklearn.naive_bayes import BernoulliNB\n",
    "BNB=BernoulliNB()\n",
    "BNB.fit(x_train,y_train)\n",
    "accuracy_score_bnb=metrics.accuracy_score(BNB.predict(x_test),y_test)\n",
    "print(accuracy_score_bnb*100)"
   ]
  },
  {
   "cell_type": "code",
   "execution_count": 25,
   "metadata": {},
   "outputs": [
    {
     "name": "stdout",
     "output_type": "stream",
     "text": [
      "Accuracy score = 65.18296013107592\n"
     ]
    }
   ],
   "source": [
    "from sklearn.feature_extraction.text import CountVectorizer\n",
    "from nltk.tokenize import RegexpTokenizer\n",
    "token = RegexpTokenizer(r'[A-Za-z0-9]+')\n",
    "\n",
    "cv=CountVectorizer(stop_words='english',ngram_range=(2,2), tokenizer=token.tokenize)\n",
    "text_counts = cv.fit_transform(Data['message'])\n",
    "\n",
    "x_train, x_test, y_train, y_test = train_test_split(text_counts, Data['sentiment'], test_size = 0.25, random_state = 5)\n",
    "\n",
    "MNB=MultinomialNB()                                                                      \n",
    "MNB.fit(x_train,y_train)                                                                         \n",
    "\n",
    "accuracy_score=metrics.accuracy_score(MNB.predict(x_test),y_test)\n",
    "print(f'Accuracy score = {accuracy_score*100}')"
   ]
  },
  {
   "cell_type": "code",
   "execution_count": 26,
   "metadata": {},
   "outputs": [
    {
     "name": "stdout",
     "output_type": "stream",
     "text": [
      "Accuracy score = 62.4795193883124\n"
     ]
    }
   ],
   "source": [
    "from sklearn.feature_extraction.text import CountVectorizer\n",
    "from nltk.tokenize import RegexpTokenizer\n",
    "token = RegexpTokenizer(r'[A-Za-z0-9]+')\n",
    "\n",
    "cv=CountVectorizer(stop_words='english',ngram_range=(2,2), tokenizer=token.tokenize)\n",
    "text_counts = cv.fit_transform(Data['message'])\n",
    "\n",
    "x_train, x_test, y_train, y_test = train_test_split(text_counts, Data['sentiment'], test_size = 0.25, random_state = 5)\n",
    "\n",
    "MNB=MultinomialNB(alpha=5)                                                                      \n",
    "MNB.fit(x_train,y_train)                                                                         \n",
    "\n",
    "accuracy_score=metrics.accuracy_score(MNB.predict(x_test),y_test)\n",
    "print(f'Accuracy score = {accuracy_score*100}')"
   ]
  },
  {
   "cell_type": "code",
   "execution_count": 27,
   "metadata": {},
   "outputs": [
    {
     "name": "stdout",
     "output_type": "stream",
     "text": [
      "Accuracy score = 57.09084289095212\n"
     ]
    }
   ],
   "source": [
    "cv=CountVectorizer(stop_words='english',ngram_range=(3,3), tokenizer=token.tokenize)\n",
    "text_counts = cv.fit_transform(Data['message'])\n",
    "\n",
    "x_train, x_test, y_train, y_test = train_test_split(text_counts, Data['sentiment'], test_size = 0.25, random_state = 5)\n",
    "\n",
    "MNB=MultinomialNB()                                                                      \n",
    "MNB.fit(x_train,y_train)                                                                         \n",
    "\n",
    "accuracy_score=metrics.accuracy_score(MNB.predict(x_test),y_test)\n",
    "print(f'Accuracy score = {accuracy_score*100}')"
   ]
  },
  {
   "cell_type": "code",
   "execution_count": 28,
   "metadata": {},
   "outputs": [
    {
     "name": "stdout",
     "output_type": "stream",
     "text": [
      "Accuracy score = 62.9528490806481\n"
     ]
    }
   ],
   "source": [
    "cv=CountVectorizer(stop_words='english',ngram_range=(3,3), tokenizer=token.tokenize)\n",
    "text_counts = cv.fit_transform(Data['message'])\n",
    "\n",
    "x_train, x_test, y_train, y_test = train_test_split(text_counts, Data['sentiment'], test_size = 0.25, random_state = 5)\n",
    "\n",
    "MNB=MultinomialNB(alpha=5)                                                                      \n",
    "MNB.fit(x_train,y_train)                                                                         \n",
    "\n",
    "accuracy_score=metrics.accuracy_score(MNB.predict(x_test),y_test)\n",
    "print(f'Accuracy score = {accuracy_score*100}')"
   ]
  },
  {
   "cell_type": "code",
   "execution_count": 29,
   "metadata": {},
   "outputs": [
    {
     "name": "stdout",
     "output_type": "stream",
     "text": [
      "Accuracy score = 58.32878208629164\n"
     ]
    }
   ],
   "source": [
    "cv=CountVectorizer(stop_words='english',ngram_range=(3,3), tokenizer=token.tokenize)\n",
    "text_counts = cv.fit_transform(Data['message'])\n",
    "\n",
    "x_train, x_test, y_train, y_test = train_test_split(text_counts, Data['sentiment'], test_size = 0.25, random_state = 5)\n",
    "\n",
    "MNB=MultinomialNB(alpha=20)                                                                      \n",
    "MNB.fit(x_train,y_train)                                                                         \n",
    "\n",
    "accuracy_score=metrics.accuracy_score(MNB.predict(x_test),y_test)\n",
    "print(f'Accuracy score = {accuracy_score*100}')"
   ]
  },
  {
   "cell_type": "markdown",
   "metadata": {},
   "source": [
    "FINAL MODEL "
   ]
  },
  {
   "cell_type": "code",
   "execution_count": 30,
   "metadata": {},
   "outputs": [
    {
     "name": "stdout",
     "output_type": "stream",
     "text": [
      "Accuracy score = 70.4806116876024\n"
     ]
    }
   ],
   "source": [
    "cv=CountVectorizer(stop_words='english',ngram_range=(1,1), tokenizer=token.tokenize)\n",
    "text_counts = cv.fit_transform(Data['message'])\n",
    "\n",
    "x_train, x_test, y_train, y_test = train_test_split(text_counts, Data['sentiment'], test_size = 0.25, random_state = 2)\n",
    "\n",
    "from sklearn.naive_bayes import ComplementNB\n",
    "\n",
    "CNB = ComplementNB()                                             \n",
    "CNB.fit(x_train,y_train)\n",
    "\n",
    "accuracy_score=metrics.accuracy_score(CNB.predict(x_test), y_test)\n",
    "\n",
    "accuracy_score=metrics.accuracy_score(CNB.predict(x_test),y_test)\n",
    "print(f'Accuracy score = {accuracy_score*100}')"
   ]
  },
  {
   "cell_type": "code",
   "execution_count": null,
   "metadata": {},
   "outputs": [],
   "source": []
  }
 ],
 "metadata": {
  "kernelspec": {
   "display_name": "Python 3",
   "language": "python",
   "name": "python3"
  },
  "language_info": {
   "codemirror_mode": {
    "name": "ipython",
    "version": 3
   },
   "file_extension": ".py",
   "mimetype": "text/x-python",
   "name": "python",
   "nbconvert_exporter": "python",
   "pygments_lexer": "ipython3",
   "version": "3.9.1"
  }
 },
 "nbformat": 4,
 "nbformat_minor": 4
}
